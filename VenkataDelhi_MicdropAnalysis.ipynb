{
  "nbformat": 4,
  "nbformat_minor": 0,
  "metadata": {
    "colab": {
      "name": "VenkataDelhi_MicdropAnalysis.ipynb",
      "provenance": [],
      "collapsed_sections": [],
      "toc_visible": true,
      "authorship_tag": "ABX9TyMUHqSsmJUSFy24rglYxyzZ",
      "include_colab_link": true
    },
    "kernelspec": {
      "name": "python3",
      "display_name": "Python 3"
    },
    "language_info": {
      "name": "python"
    }
  },
  "cells": [
    {
      "cell_type": "markdown",
      "metadata": {
        "id": "view-in-github",
        "colab_type": "text"
      },
      "source": [
        "<a href=\"https://colab.research.google.com/github/SatishDelhi/Complete-Python-3-Bootcamp/blob/master/VenkataDelhi_MicdropAnalysis.ipynb\" target=\"_parent\"><img src=\"https://colab.research.google.com/assets/colab-badge.svg\" alt=\"Open In Colab\"/></a>"
      ]
    },
    {
      "cell_type": "markdown",
      "metadata": {
        "id": "7xlMkm05zFWx"
      },
      "source": [
        "# Import Libraries\n",
        "\n",
        "\n",
        "\n",
        "\n"
      ]
    },
    {
      "cell_type": "code",
      "metadata": {
        "id": "J1PZwmI7vMlf"
      },
      "source": [
        "import pandas as pd\n",
        "import numpy as np\n",
        "from sklearn import preprocessing\n",
        "import matplotlib.pyplot as plt \n",
        "plt.rc(\"font\", size=14)\n",
        "from sklearn.linear_model import LogisticRegression\n",
        "from sklearn.model_selection import train_test_split\n",
        "from sklearn import model_selection, preprocessing, feature_selection, ensemble, linear_model, metrics, decomposition\n",
        "import seaborn as sns\n",
        "import scipy\n",
        "import statsmodels.formula.api as smf\n",
        "import statsmodels.api as sm\n",
        "sns.set(style=\"white\")\n",
        "sns.set(style=\"whitegrid\", color_codes=True)"
      ],
      "execution_count": 114,
      "outputs": []
    },
    {
      "cell_type": "markdown",
      "metadata": {
        "id": "ZjtQq3bnzPn0"
      },
      "source": [
        "#Read Data\n"
      ]
    },
    {
      "cell_type": "code",
      "metadata": {
        "id": "MU0l_UEezZ7C"
      },
      "source": [
        "df = pd.read_csv(\"micdrop_subsciptions_data_v1.csv\")"
      ],
      "execution_count": 115,
      "outputs": []
    },
    {
      "cell_type": "code",
      "metadata": {
        "colab": {
          "base_uri": "https://localhost:8080/"
        },
        "id": "OOIRAe9B8hCO",
        "outputId": "3f0ea2f9-ce7c-4f8c-db2d-cf07ee6a3d8d"
      },
      "source": [
        "print(df)"
      ],
      "execution_count": 116,
      "outputs": [
        {
          "output_type": "stream",
          "text": [
            "      click_date     platform  ...   fav_genre subscriber\n",
            "0       12/27/17   mobile web  ...     hip_hop       True\n",
            "1        1/10/18   mobile web  ...     hip_hop      False\n",
            "2       12/15/17  desktop web  ...     hip_hop       True\n",
            "3         1/6/18   mobile web  ...     hip_hop      False\n",
            "4       12/20/17   mobile web  ...  indie_rock      False\n",
            "...          ...          ...  ...         ...        ...\n",
            "94189   12/22/17  desktop web  ...     hip_hop      False\n",
            "94190   12/26/17   mobile web  ...     hip_hop      False\n",
            "94191     1/9/18  desktop web  ...     hip_hop      False\n",
            "94192   12/19/17   mobile web  ...     hip_hop      False\n",
            "94193   12/28/17   mobile web  ...     hip_hop      False\n",
            "\n",
            "[94194 rows x 9 columns]\n"
          ],
          "name": "stdout"
        }
      ]
    },
    {
      "cell_type": "markdown",
      "metadata": {
        "id": "icCkvOMcTLlf"
      },
      "source": [
        "#Data Analysis"
      ]
    },
    {
      "cell_type": "markdown",
      "metadata": {
        "id": "SqfIciYRTYjj"
      },
      "source": [
        "**Understanding the Target Variable**"
      ]
    },
    {
      "cell_type": "code",
      "metadata": {
        "colab": {
          "base_uri": "https://localhost:8080/",
          "height": 297
        },
        "id": "ft37AL6FTXF2",
        "outputId": "48a2faff-1ca1-4669-b790-abf63053112f"
      },
      "source": [
        "y = \"Y\"\n",
        "ax = df['subscriber'].value_counts().sort_values().plot(kind=\"barh\")\n",
        "totals= []\n",
        "for i in ax.patches:\n",
        "    totals.append(i.get_width())\n",
        "total = sum(totals)\n",
        "for i in ax.patches:\n",
        "     ax.text(i.get_width()+.3, i.get_y()+.20, \n",
        "     str(round((i.get_width()/total)*100, 2))+'%', \n",
        "     fontsize=10, color='black')\n",
        "ax.grid(axis=\"x\")\n",
        "plt.suptitle(y, fontsize=20)\n",
        "plt.show()"
      ],
      "execution_count": 117,
      "outputs": [
        {
          "output_type": "display_data",
          "data": {
            "image/png": "[encoded data removed]",
            "text/plain": [
              "<Figure size 432x288 with 1 Axes>"
            ]
          },
          "metadata": {
            "tags": []
          }
        }
      ]
    },
    {
      "cell_type": "markdown",
      "metadata": {
        "id": "olxm6VqHUEBi"
      },
      "source": [
        "**Analysing the \"target variable\" shows that the data is imbalanced. Balancing the data is essential to improve the accuracy of the model prediction of the minority values in the target variable**"
      ]
    },
    {
      "cell_type": "markdown",
      "metadata": {
        "id": "_zsbpjTlUkuA"
      },
      "source": [
        "**Bivariate Analysis**"
      ]
    },
    {
      "cell_type": "markdown",
      "metadata": {
        "id": "VKXCkukCUn_2"
      },
      "source": [
        "PLATFORM vs SUBSCRIPTION"
      ]
    },
    {
      "cell_type": "code",
      "metadata": {
        "colab": {
          "base_uri": "https://localhost:8080/",
          "height": 733
        },
        "id": "mQ556U1pUfef",
        "outputId": "d8d7d105-7d4b-4a6c-86b9-116d5187370f"
      },
      "source": [
        "x, y = \"platform\", \"subscriber\"\n",
        "fig, ax = plt.subplots(nrows=1, ncols=2,  sharex=False, sharey=False)\n",
        "fig.suptitle(x+\"   vs   \"+y, fontsize=20)\n",
        "### count\n",
        "ax[0].title.set_text('count')\n",
        "order = df.groupby(x)[y].count().index.tolist()\n",
        "sns.catplot(x=x, hue=y, data=df, kind='count', order=order, ax=ax[0])\n",
        "ax[0].grid(True)\n",
        "\n",
        "### percentage\n",
        "ax[1].title.set_text('percentage')\n",
        "a = df.groupby(x)[y].count().reset_index()\n",
        "a = a.rename(columns={y:\"tot\"})\n",
        "b = df.groupby([x,y])[y].count()\n",
        "b = b.to_frame()\n",
        "b = b.rename(columns={y:0}).reset_index()\n",
        "b = b.merge(a, how=\"left\")\n",
        "b[\"%\"] = b[0] / b[\"tot\"] *100\n",
        "sns.barplot(x=x, y=\"%\", hue=y, data=b,\n",
        "            ax=ax[1]).get_legend().remove()\n",
        "ax[1].grid(True)\n",
        "plt.show()"
      ],
      "execution_count": 104,
      "outputs": [
        {
          "output_type": "stream",
          "text": [
            "/usr/local/lib/python3.7/dist-packages/seaborn/categorical.py:3772: UserWarning: catplot is a figure-level function and does not accept target axes. You may wish to try countplot\n",
            "  warnings.warn(msg, UserWarning)\n"
          ],
          "name": "stderr"
        },
        {
          "output_type": "display_data",
          "data": {
            "image/png": "[encoded data removed]",
            "text/plain": [
              "<Figure size 432x288 with 2 Axes>"
            ]
          },
          "metadata": {
            "tags": []
          }
        },
        {
          "output_type": "display_data",
          "data": {
            "image/png": "[encoded data removed]",
            "text/plain": [
              "<Figure size 431.675x360 with 1 Axes>"
            ]
          },
          "metadata": {
            "tags": []
          }
        }
      ]
    },
    {
      "cell_type": "markdown",
      "metadata": {
        "id": "uVqfnBCGV0YN"
      },
      "source": [
        "Finding the Cramers Correlation to see  if the platform variable has any direct impact on the output"
      ]
    },
    {
      "cell_type": "code",
      "metadata": {
        "colab": {
          "base_uri": "https://localhost:8080/"
        },
        "id": "Kk1yGPGAV1I6",
        "outputId": "09b1de88-6de2-4e61-ecb2-dcca914551bb"
      },
      "source": [
        "x, y = \"platform\", \"subscriber\"\n",
        "cont_table = pd.crosstab(index=df[x], columns=df[y])\n",
        "chi2_test = scipy.stats.chi2_contingency(cont_table)\n",
        "chi2, p = chi2_test[0], chi2_test[1]\n",
        "n = cont_table.sum().sum()\n",
        "phi2 = chi2/n\n",
        "r,k = cont_table.shape\n",
        "phi2corr = max(0, phi2-((k-1)*(r-1))/(n-1))\n",
        "rcorr = r-((r-1)**2)/(n-1)\n",
        "kcorr = k-((k-1)**2)/(n-1)\n",
        "coeff = np.sqrt(phi2corr/min((kcorr-1), (rcorr-1)))\n",
        "coeff, p = round(coeff, 3), round(p, 3)\n",
        "conclusion = \"Significant\" if p < 0.05 else \"Non-Significant\"\n",
        "print(\"Cramer Correlation:\", coeff, conclusion, \"(p-value:\"+str(p)+\")\")"
      ],
      "execution_count": 105,
      "outputs": [
        {
          "output_type": "stream",
          "text": [
            "Cramer Correlation: 0.015 Significant (p-value:0.0)\n"
          ],
          "name": "stdout"
        }
      ]
    },
    {
      "cell_type": "markdown",
      "metadata": {
        "id": "kPYYxSirWwe-"
      },
      "source": [
        "**As the P-Value is greater than 0.05, \"platform\" has an impact on the output**"
      ]
    },
    {
      "cell_type": "markdown",
      "metadata": {
        "id": "qFIgaUiAW1-w"
      },
      "source": [
        "**fav Genre**"
      ]
    },
    {
      "cell_type": "code",
      "metadata": {
        "colab": {
          "base_uri": "https://localhost:8080/",
          "height": 734
        },
        "id": "Ucu40zxMW4km",
        "outputId": "77c4332b-7b5e-47a9-e77c-efa34640f8d7"
      },
      "source": [
        "x, y = \"fav_genre\", \"subscriber\"\n",
        "fig, ax = plt.subplots(nrows=1, ncols=2,  sharex=False, sharey=False)\n",
        "fig.suptitle(x+\"   vs   \"+y, fontsize=20)\n",
        "### count\n",
        "ax[0].title.set_text('count')\n",
        "order = df.groupby(x)[y].count().index.tolist()\n",
        "sns.catplot(x=x, hue=y, data=df, kind='count', order=order, ax=ax[0])\n",
        "ax[0].grid(True)\n",
        "\n",
        "### percentage\n",
        "ax[1].title.set_text('percentage')\n",
        "a = df.groupby(x)[y].count().reset_index()\n",
        "a = a.rename(columns={y:\"tot\"})\n",
        "b = df.groupby([x,y])[y].count()\n",
        "b = b.to_frame()\n",
        "b = b.rename(columns={y:0}).reset_index()\n",
        "b = b.merge(a, how=\"left\")\n",
        "b[\"%\"] = b[0] / b[\"tot\"] *100\n",
        "sns.barplot(x=x, y=\"%\", hue=y, data=b,\n",
        "            ax=ax[1]).get_legend().remove()\n",
        "ax[1].grid(True)\n",
        "plt.show()"
      ],
      "execution_count": 106,
      "outputs": [
        {
          "output_type": "stream",
          "text": [
            "/usr/local/lib/python3.7/dist-packages/seaborn/categorical.py:3772: UserWarning: catplot is a figure-level function and does not accept target axes. You may wish to try countplot\n",
            "  warnings.warn(msg, UserWarning)\n"
          ],
          "name": "stderr"
        },
        {
          "output_type": "display_data",
          "data": {
            "image/png": "[encoded data removed]",
            "text/plain": [
              "<Figure size 432x288 with 2 Axes>"
            ]
          },
          "metadata": {
            "tags": []
          }
        },
        {
          "output_type": "display_data",
          "data": {
            "image/png": "[encoded data removed]",
            "text/plain": [
              "<Figure size 431.675x360 with 1 Axes>"
            ]
          },
          "metadata": {
            "tags": []
          }
        }
      ]
    },
    {
      "cell_type": "code",
      "metadata": {
        "colab": {
          "base_uri": "https://localhost:8080/"
        },
        "id": "Qv1GgrmJXEYz",
        "outputId": "0c9742f7-d135-40ca-88c0-b973ec9ee2ec"
      },
      "source": [
        "x, y = \"fav_genre\", \"subscriber\"\n",
        "cont_table = pd.crosstab(index=df[x], columns=df[y])\n",
        "chi2_test = scipy.stats.chi2_contingency(cont_table)\n",
        "chi2, p = chi2_test[0], chi2_test[1]\n",
        "n = cont_table.sum().sum()\n",
        "phi2 = chi2/n\n",
        "r,k = cont_table.shape\n",
        "phi2corr = max(0, phi2-((k-1)*(r-1))/(n-1))\n",
        "rcorr = r-((r-1)**2)/(n-1)\n",
        "kcorr = k-((k-1)**2)/(n-1)\n",
        "coeff = np.sqrt(phi2corr/min((kcorr-1), (rcorr-1)))\n",
        "coeff, p = round(coeff, 3), round(p, 3)\n",
        "conclusion = \"Significant\" if p < 0.05 else \"Non-Significant\"\n",
        "print(\"Cramer Correlation:\", coeff, conclusion, \"(p-value:\"+str(p)+\")\")"
      ],
      "execution_count": 107,
      "outputs": [
        {
          "output_type": "stream",
          "text": [
            "Cramer Correlation: 0.033 Significant (p-value:0.0)\n"
          ],
          "name": "stdout"
        }
      ]
    },
    {
      "cell_type": "markdown",
      "metadata": {
        "id": "VSwvZ_hPXMBO"
      },
      "source": [
        "**As the P-Value is greater than 0.05, \"platform\" has an impact on the output**"
      ]
    },
    {
      "cell_type": "markdown",
      "metadata": {
        "id": "NHUDRnYsXWXz"
      },
      "source": [
        "**State**"
      ]
    },
    {
      "cell_type": "code",
      "metadata": {
        "colab": {
          "base_uri": "https://localhost:8080/"
        },
        "id": "aqEsumPTXYGF",
        "outputId": "e91a75b2-4295-449d-890e-34eb4b90cd10"
      },
      "source": [
        "x, y = \"customer_state\", \"subscriber\"\n",
        "cont_table = pd.crosstab(index=df[x], columns=df[y])\n",
        "chi2_test = scipy.stats.chi2_contingency(cont_table)\n",
        "chi2, p = chi2_test[0], chi2_test[1]\n",
        "n = cont_table.sum().sum()\n",
        "phi2 = chi2/n\n",
        "r,k = cont_table.shape\n",
        "phi2corr = max(0, phi2-((k-1)*(r-1))/(n-1))\n",
        "rcorr = r-((r-1)**2)/(n-1)\n",
        "kcorr = k-((k-1)**2)/(n-1)\n",
        "coeff = np.sqrt(phi2corr/min((kcorr-1), (rcorr-1)))\n",
        "coeff, p = round(coeff, 3), round(p, 3)\n",
        "conclusion = \"Significant\" if p < 0.05 else \"Non-Significant\"\n",
        "print(\"Cramer Correlation:\", coeff, conclusion, \"(p-value:\"+str(p)+\")\")"
      ],
      "execution_count": 110,
      "outputs": [
        {
          "output_type": "stream",
          "text": [
            "Cramer Correlation: 0.069 Significant (p-value:0.0)\n"
          ],
          "name": "stdout"
        }
      ]
    },
    {
      "cell_type": "markdown",
      "metadata": {
        "id": "GLr5GBMOXWMR"
      },
      "source": [
        "**As the P-Value is greater than 0.05, \"State\" has an impact on the output**"
      ]
    },
    {
      "cell_type": "markdown",
      "metadata": {
        "id": "NDA3oK7R7Zcp"
      },
      "source": [
        "#Data Preparation"
      ]
    },
    {
      "cell_type": "markdown",
      "metadata": {
        "id": "iKFvqJ43QfOS"
      },
      "source": [
        "**Handle Missing Values**"
      ]
    },
    {
      "cell_type": "code",
      "metadata": {
        "id": "XwE2NOVoEn8k"
      },
      "source": [
        "df1 = df"
      ],
      "execution_count": 118,
      "outputs": []
    },
    {
      "cell_type": "code",
      "metadata": {
        "colab": {
          "base_uri": "https://localhost:8080/"
        },
        "id": "vJ8GVKUo7Isf",
        "outputId": "14011050-5c78-4ec2-9aa9-99b00357ebc9"
      },
      "source": [
        "df1.isna().sum()"
      ],
      "execution_count": 125,
      "outputs": [
        {
          "output_type": "execute_result",
          "data": {
            "text/plain": [
              "click_date             0\n",
              "platform               0\n",
              "customer_city          0\n",
              "customer_state         0\n",
              "urban_flag             0\n",
              "credit_card_on_file    0\n",
              "student                0\n",
              "fav_genre              0\n",
              "subscriber             0\n",
              "dtype: int64"
            ]
          },
          "metadata": {
            "tags": []
          },
          "execution_count": 125
        }
      ]
    },
    {
      "cell_type": "markdown",
      "metadata": {
        "id": "QqGz2yGJ7hP7"
      },
      "source": [
        "Replace null values in fav_Genre with \"General\" to make it as one level in the category\n",
        "\n",
        "\n",
        "\n"
      ]
    },
    {
      "cell_type": "code",
      "metadata": {
        "id": "GBF92PyS7fi2"
      },
      "source": [
        "df['fav_genre'].fillna(\"General\", inplace = True) "
      ],
      "execution_count": 120,
      "outputs": []
    },
    {
      "cell_type": "markdown",
      "metadata": {
        "id": "5ZpnZmreF3cC"
      },
      "source": [
        "Remove nulls in output"
      ]
    },
    {
      "cell_type": "code",
      "metadata": {
        "id": "sSUfnQYSF6PJ"
      },
      "source": [
        "df1 = df1.dropna(subset= ['subscriber'])"
      ],
      "execution_count": 122,
      "outputs": []
    },
    {
      "cell_type": "markdown",
      "metadata": {
        "id": "sz03swzgQ2Yd"
      },
      "source": [
        "Remove nulls in features"
      ]
    },
    {
      "cell_type": "code",
      "metadata": {
        "id": "kcRJdujz7UFr"
      },
      "source": [
        "df1 = df1.dropna(subset=['customer_state', 'customer_city'])\n"
      ],
      "execution_count": 124,
      "outputs": []
    },
    {
      "cell_type": "markdown",
      "metadata": {
        "id": "998f9BQCFP4k"
      },
      "source": [
        "Convert the Boolean output variable to Binary"
      ]
    },
    {
      "cell_type": "code",
      "metadata": {
        "id": "7dJxt3nwFT4a"
      },
      "source": [
        "df1['subscriber'] = df1['subscriber'] * 1"
      ],
      "execution_count": 126,
      "outputs": []
    },
    {
      "cell_type": "markdown",
      "metadata": {
        "id": "bdUS8i_8FOGE"
      },
      "source": [
        "DROP UNWANTED COLUMNS"
      ]
    },
    {
      "cell_type": "markdown",
      "metadata": {
        "id": "XfmL6usDRCH7"
      },
      "source": [
        "As the data is only for 2 months, presuming the date would not have big impact in prediction. Date and Month may be considred as we collect more data for analysis"
      ]
    },
    {
      "cell_type": "code",
      "metadata": {
        "id": "uMYxztsHEsWH"
      },
      "source": [
        "df1 = df1.drop(['click_date'], axis=1)"
      ],
      "execution_count": 127,
      "outputs": []
    },
    {
      "cell_type": "code",
      "metadata": {
        "colab": {
          "base_uri": "https://localhost:8080/"
        },
        "id": "3Xow8azoReqg",
        "outputId": "eb0d5e40-647e-4c7f-edd8-ccf960d46718"
      },
      "source": [
        "df1['customer_city'].nunique()"
      ],
      "execution_count": 128,
      "outputs": [
        {
          "output_type": "execute_result",
          "data": {
            "text/plain": [
              "796"
            ]
          },
          "metadata": {
            "tags": []
          },
          "execution_count": 128
        }
      ]
    },
    {
      "cell_type": "markdown",
      "metadata": {
        "id": "U5zSDkEgRRlx"
      },
      "source": [
        "Inorder to reduce the issue of Dimensionality, excluding the customer city field from the analysis. The unique values in the city field are 796. While encoding this feature, it would increase the number of dimensions in the model. In future when there is more data, Top 20 cities or all of the cities can be considered in training the model. Currently excluding this field from the model"
      ]
    },
    {
      "cell_type": "code",
      "metadata": {
        "id": "nrBGODapFHom"
      },
      "source": [
        "df1 = df1.drop(['customer_city'], axis=1)"
      ],
      "execution_count": 129,
      "outputs": []
    },
    {
      "cell_type": "code",
      "metadata": {
        "colab": {
          "base_uri": "https://localhost:8080/",
          "height": 419
        },
        "id": "i9suw2SZFcXi",
        "outputId": "f2559d8d-19b9-43d5-c197-285be610576f"
      },
      "source": [
        "df1"
      ],
      "execution_count": 130,
      "outputs": [
        {
          "output_type": "execute_result",
          "data": {
            "text/html": [
              "<div>\n",
              "<style scoped>\n",
              "    .dataframe tbody tr th:only-of-type {\n",
              "        vertical-align: middle;\n",
              "    }\n",
              "\n",
              "    .dataframe tbody tr th {\n",
              "        vertical-align: top;\n",
              "    }\n",
              "\n",
              "    .dataframe thead th {\n",
              "        text-align: right;\n",
              "    }\n",
              "</style>\n",
              "<table border=\"1\" class=\"dataframe\">\n",
              "  <thead>\n",
              "    <tr style=\"text-align: right;\">\n",
              "      <th></th>\n",
              "      <th>platform</th>\n",
              "      <th>customer_state</th>\n",
              "      <th>urban_flag</th>\n",
              "      <th>credit_card_on_file</th>\n",
              "      <th>student</th>\n",
              "      <th>fav_genre</th>\n",
              "      <th>subscriber</th>\n",
              "    </tr>\n",
              "  </thead>\n",
              "  <tbody>\n",
              "    <tr>\n",
              "      <th>0</th>\n",
              "      <td>mobile web</td>\n",
              "      <td>tx</td>\n",
              "      <td>1</td>\n",
              "      <td>0</td>\n",
              "      <td>0</td>\n",
              "      <td>hip_hop</td>\n",
              "      <td>1</td>\n",
              "    </tr>\n",
              "    <tr>\n",
              "      <th>1</th>\n",
              "      <td>mobile web</td>\n",
              "      <td>hi</td>\n",
              "      <td>0</td>\n",
              "      <td>0</td>\n",
              "      <td>0</td>\n",
              "      <td>hip_hop</td>\n",
              "      <td>0</td>\n",
              "    </tr>\n",
              "    <tr>\n",
              "      <th>2</th>\n",
              "      <td>desktop web</td>\n",
              "      <td>ga</td>\n",
              "      <td>1</td>\n",
              "      <td>0</td>\n",
              "      <td>0</td>\n",
              "      <td>hip_hop</td>\n",
              "      <td>1</td>\n",
              "    </tr>\n",
              "    <tr>\n",
              "      <th>3</th>\n",
              "      <td>mobile web</td>\n",
              "      <td>hi</td>\n",
              "      <td>0</td>\n",
              "      <td>0</td>\n",
              "      <td>0</td>\n",
              "      <td>hip_hop</td>\n",
              "      <td>0</td>\n",
              "    </tr>\n",
              "    <tr>\n",
              "      <th>4</th>\n",
              "      <td>mobile web</td>\n",
              "      <td>fl</td>\n",
              "      <td>0</td>\n",
              "      <td>0</td>\n",
              "      <td>0</td>\n",
              "      <td>indie_rock</td>\n",
              "      <td>0</td>\n",
              "    </tr>\n",
              "    <tr>\n",
              "      <th>...</th>\n",
              "      <td>...</td>\n",
              "      <td>...</td>\n",
              "      <td>...</td>\n",
              "      <td>...</td>\n",
              "      <td>...</td>\n",
              "      <td>...</td>\n",
              "      <td>...</td>\n",
              "    </tr>\n",
              "    <tr>\n",
              "      <th>94189</th>\n",
              "      <td>desktop web</td>\n",
              "      <td>hi</td>\n",
              "      <td>1</td>\n",
              "      <td>0</td>\n",
              "      <td>0</td>\n",
              "      <td>hip_hop</td>\n",
              "      <td>0</td>\n",
              "    </tr>\n",
              "    <tr>\n",
              "      <th>94190</th>\n",
              "      <td>mobile web</td>\n",
              "      <td>fl</td>\n",
              "      <td>1</td>\n",
              "      <td>0</td>\n",
              "      <td>1</td>\n",
              "      <td>hip_hop</td>\n",
              "      <td>0</td>\n",
              "    </tr>\n",
              "    <tr>\n",
              "      <th>94191</th>\n",
              "      <td>desktop web</td>\n",
              "      <td>mo</td>\n",
              "      <td>1</td>\n",
              "      <td>0</td>\n",
              "      <td>1</td>\n",
              "      <td>hip_hop</td>\n",
              "      <td>0</td>\n",
              "    </tr>\n",
              "    <tr>\n",
              "      <th>94192</th>\n",
              "      <td>mobile web</td>\n",
              "      <td>ga</td>\n",
              "      <td>0</td>\n",
              "      <td>0</td>\n",
              "      <td>0</td>\n",
              "      <td>hip_hop</td>\n",
              "      <td>0</td>\n",
              "    </tr>\n",
              "    <tr>\n",
              "      <th>94193</th>\n",
              "      <td>mobile web</td>\n",
              "      <td>ca</td>\n",
              "      <td>1</td>\n",
              "      <td>0</td>\n",
              "      <td>0</td>\n",
              "      <td>hip_hop</td>\n",
              "      <td>0</td>\n",
              "    </tr>\n",
              "  </tbody>\n",
              "</table>\n",
              "<p>94179 rows × 7 columns</p>\n",
              "</div>"
            ],
            "text/plain": [
              "          platform customer_state  urban_flag  ...  student   fav_genre subscriber\n",
              "0       mobile web             tx           1  ...        0     hip_hop          1\n",
              "1       mobile web             hi           0  ...        0     hip_hop          0\n",
              "2      desktop web             ga           1  ...        0     hip_hop          1\n",
              "3       mobile web             hi           0  ...        0     hip_hop          0\n",
              "4       mobile web             fl           0  ...        0  indie_rock          0\n",
              "...            ...            ...         ...  ...      ...         ...        ...\n",
              "94189  desktop web             hi           1  ...        0     hip_hop          0\n",
              "94190   mobile web             fl           1  ...        1     hip_hop          0\n",
              "94191  desktop web             mo           1  ...        1     hip_hop          0\n",
              "94192   mobile web             ga           0  ...        0     hip_hop          0\n",
              "94193   mobile web             ca           1  ...        0     hip_hop          0\n",
              "\n",
              "[94179 rows x 7 columns]"
            ]
          },
          "metadata": {
            "tags": []
          },
          "execution_count": 130
        }
      ]
    },
    {
      "cell_type": "code",
      "metadata": {
        "colab": {
          "base_uri": "https://localhost:8080/"
        },
        "id": "s4genTXxQqUT",
        "outputId": "f3277b8f-76b2-4cb8-f161-ca1132f9a3f6"
      },
      "source": [
        "print(df1)"
      ],
      "execution_count": 131,
      "outputs": [
        {
          "output_type": "stream",
          "text": [
            "          platform customer_state  urban_flag  ...  student   fav_genre subscriber\n",
            "0       mobile web             tx           1  ...        0     hip_hop          1\n",
            "1       mobile web             hi           0  ...        0     hip_hop          0\n",
            "2      desktop web             ga           1  ...        0     hip_hop          1\n",
            "3       mobile web             hi           0  ...        0     hip_hop          0\n",
            "4       mobile web             fl           0  ...        0  indie_rock          0\n",
            "...            ...            ...         ...  ...      ...         ...        ...\n",
            "94189  desktop web             hi           1  ...        0     hip_hop          0\n",
            "94190   mobile web             fl           1  ...        1     hip_hop          0\n",
            "94191  desktop web             mo           1  ...        1     hip_hop          0\n",
            "94192   mobile web             ga           0  ...        0     hip_hop          0\n",
            "94193   mobile web             ca           1  ...        0     hip_hop          0\n",
            "\n",
            "[94179 rows x 7 columns]\n"
          ],
          "name": "stdout"
        }
      ]
    },
    {
      "cell_type": "markdown",
      "metadata": {
        "id": "PQze_3yunkSZ"
      },
      "source": [
        "Encoding the categorical independent variables by using Dummy Variables and not one hot encoding\n",
        "\n",
        "---\n",
        "\n",
        "\n"
      ]
    },
    {
      "cell_type": "code",
      "metadata": {
        "id": "pXMm4ihNnn0F"
      },
      "source": [
        "cat_vars=['platform','fav_genre', 'customer_state']\n",
        "for var in cat_vars:\n",
        "    cat_list='var'+'_'+var\n",
        "    cat_list = pd.get_dummies(df1[var], prefix=var)\n",
        "    df2=df1.join(cat_list)\n",
        "    df1=df2"
      ],
      "execution_count": 132,
      "outputs": []
    },
    {
      "cell_type": "code",
      "metadata": {
        "id": "aHVdtbSNRCvm"
      },
      "source": [
        "cat_vars=['platform','fav_genre', 'customer_state']\n",
        "data_vars=df1.columns.values.tolist()\n",
        "to_keep=[i for i in data_vars if i not in cat_vars]"
      ],
      "execution_count": 133,
      "outputs": []
    },
    {
      "cell_type": "markdown",
      "metadata": {
        "id": "U1mKP3n7RPU8"
      },
      "source": [
        "Final Data"
      ]
    },
    {
      "cell_type": "code",
      "metadata": {
        "colab": {
          "base_uri": "https://localhost:8080/"
        },
        "id": "LN1Y6l9MRObq",
        "outputId": "0e9b6e4f-2a12-4e60-f3b6-cfd8fce3a923"
      },
      "source": [
        "df_final=df1[to_keep]\n",
        "colname = df_final.columns.values\n",
        "colname"
      ],
      "execution_count": 134,
      "outputs": [
        {
          "output_type": "execute_result",
          "data": {
            "text/plain": [
              "array(['urban_flag', 'credit_card_on_file', 'student', 'subscriber',\n",
              "       'platform_desktop web', 'platform_mobile web', 'fav_genre_General',\n",
              "       'fav_genre_classical', 'fav_genre_country', 'fav_genre_hip_hop',\n",
              "       'fav_genre_indie_rock', 'fav_genre_latin', 'fav_genre_punk_rock',\n",
              "       'fav_genre_r&b', 'fav_genre_techno', 'customer_state_ak',\n",
              "       'customer_state_al', 'customer_state_ar', 'customer_state_az',\n",
              "       'customer_state_ca', 'customer_state_co', 'customer_state_ct',\n",
              "       'customer_state_dc', 'customer_state_de', 'customer_state_fl',\n",
              "       'customer_state_ga', 'customer_state_hi', 'customer_state_ia',\n",
              "       'customer_state_id', 'customer_state_il', 'customer_state_in',\n",
              "       'customer_state_ks', 'customer_state_ky', 'customer_state_la',\n",
              "       'customer_state_ma', 'customer_state_md', 'customer_state_me',\n",
              "       'customer_state_mi', 'customer_state_mn', 'customer_state_mo',\n",
              "       'customer_state_ms', 'customer_state_mt', 'customer_state_nc',\n",
              "       'customer_state_ne', 'customer_state_nj', 'customer_state_nv',\n",
              "       'customer_state_oh', 'customer_state_ok', 'customer_state_or',\n",
              "       'customer_state_pa', 'customer_state_ri', 'customer_state_sc',\n",
              "       'customer_state_tn', 'customer_state_tx', 'customer_state_ut',\n",
              "       'customer_state_va', 'customer_state_wa', 'customer_state_wi'],\n",
              "      dtype=object)"
            ]
          },
          "metadata": {
            "tags": []
          },
          "execution_count": 134
        }
      ]
    },
    {
      "cell_type": "code",
      "metadata": {
        "id": "qFjx-h0LViSM"
      },
      "source": [
        "\n",
        "df_final = df_final[colname]"
      ],
      "execution_count": 135,
      "outputs": []
    },
    {
      "cell_type": "code",
      "metadata": {
        "colab": {
          "base_uri": "https://localhost:8080/",
          "height": 241
        },
        "id": "uI9AmP9-XWj8",
        "outputId": "11ac4c5d-8e07-49f7-c841-ede317759ada"
      },
      "source": [
        "df_final.head()"
      ],
      "execution_count": 136,
      "outputs": [
        {
          "output_type": "execute_result",
          "data": {
            "text/html": [
              "<div>\n",
              "<style scoped>\n",
              "    .dataframe tbody tr th:only-of-type {\n",
              "        vertical-align: middle;\n",
              "    }\n",
              "\n",
              "    .dataframe tbody tr th {\n",
              "        vertical-align: top;\n",
              "    }\n",
              "\n",
              "    .dataframe thead th {\n",
              "        text-align: right;\n",
              "    }\n",
              "</style>\n",
              "<table border=\"1\" class=\"dataframe\">\n",
              "  <thead>\n",
              "    <tr style=\"text-align: right;\">\n",
              "      <th></th>\n",
              "      <th>urban_flag</th>\n",
              "      <th>credit_card_on_file</th>\n",
              "      <th>student</th>\n",
              "      <th>subscriber</th>\n",
              "      <th>platform_desktop web</th>\n",
              "      <th>platform_mobile web</th>\n",
              "      <th>fav_genre_General</th>\n",
              "      <th>fav_genre_classical</th>\n",
              "      <th>fav_genre_country</th>\n",
              "      <th>fav_genre_hip_hop</th>\n",
              "      <th>fav_genre_indie_rock</th>\n",
              "      <th>fav_genre_latin</th>\n",
              "      <th>fav_genre_punk_rock</th>\n",
              "      <th>fav_genre_r&amp;b</th>\n",
              "      <th>fav_genre_techno</th>\n",
              "      <th>customer_state_ak</th>\n",
              "      <th>customer_state_al</th>\n",
              "      <th>customer_state_ar</th>\n",
              "      <th>customer_state_az</th>\n",
              "      <th>customer_state_ca</th>\n",
              "      <th>customer_state_co</th>\n",
              "      <th>customer_state_ct</th>\n",
              "      <th>customer_state_dc</th>\n",
              "      <th>customer_state_de</th>\n",
              "      <th>customer_state_fl</th>\n",
              "      <th>customer_state_ga</th>\n",
              "      <th>customer_state_hi</th>\n",
              "      <th>customer_state_ia</th>\n",
              "      <th>customer_state_id</th>\n",
              "      <th>customer_state_il</th>\n",
              "      <th>customer_state_in</th>\n",
              "      <th>customer_state_ks</th>\n",
              "      <th>customer_state_ky</th>\n",
              "      <th>customer_state_la</th>\n",
              "      <th>customer_state_ma</th>\n",
              "      <th>customer_state_md</th>\n",
              "      <th>customer_state_me</th>\n",
              "      <th>customer_state_mi</th>\n",
              "      <th>customer_state_mn</th>\n",
              "      <th>customer_state_mo</th>\n",
              "      <th>customer_state_ms</th>\n",
              "      <th>customer_state_mt</th>\n",
              "      <th>customer_state_nc</th>\n",
              "      <th>customer_state_ne</th>\n",
              "      <th>customer_state_nj</th>\n",
              "      <th>customer_state_nv</th>\n",
              "      <th>customer_state_oh</th>\n",
              "      <th>customer_state_ok</th>\n",
              "      <th>customer_state_or</th>\n",
              "      <th>customer_state_pa</th>\n",
              "      <th>customer_state_ri</th>\n",
              "      <th>customer_state_sc</th>\n",
              "      <th>customer_state_tn</th>\n",
              "      <th>customer_state_tx</th>\n",
              "      <th>customer_state_ut</th>\n",
              "      <th>customer_state_va</th>\n",
              "      <th>customer_state_wa</th>\n",
              "      <th>customer_state_wi</th>\n",
              "    </tr>\n",
              "  </thead>\n",
              "  <tbody>\n",
              "    <tr>\n",
              "      <th>0</th>\n",
              "      <td>1</td>\n",
              "      <td>0</td>\n",
              "      <td>0</td>\n",
              "      <td>1</td>\n",
              "      <td>0</td>\n",
              "      <td>1</td>\n",
              "      <td>0</td>\n",
              "      <td>0</td>\n",
              "      <td>0</td>\n",
              "      <td>1</td>\n",
              "      <td>0</td>\n",
              "      <td>0</td>\n",
              "      <td>0</td>\n",
              "      <td>0</td>\n",
              "      <td>0</td>\n",
              "      <td>0</td>\n",
              "      <td>0</td>\n",
              "      <td>0</td>\n",
              "      <td>0</td>\n",
              "      <td>0</td>\n",
              "      <td>0</td>\n",
              "      <td>0</td>\n",
              "      <td>0</td>\n",
              "      <td>0</td>\n",
              "      <td>0</td>\n",
              "      <td>0</td>\n",
              "      <td>0</td>\n",
              "      <td>0</td>\n",
              "      <td>0</td>\n",
              "      <td>0</td>\n",
              "      <td>0</td>\n",
              "      <td>0</td>\n",
              "      <td>0</td>\n",
              "      <td>0</td>\n",
              "      <td>0</td>\n",
              "      <td>0</td>\n",
              "      <td>0</td>\n",
              "      <td>0</td>\n",
              "      <td>0</td>\n",
              "      <td>0</td>\n",
              "      <td>0</td>\n",
              "      <td>0</td>\n",
              "      <td>0</td>\n",
              "      <td>0</td>\n",
              "      <td>0</td>\n",
              "      <td>0</td>\n",
              "      <td>0</td>\n",
              "      <td>0</td>\n",
              "      <td>0</td>\n",
              "      <td>0</td>\n",
              "      <td>0</td>\n",
              "      <td>0</td>\n",
              "      <td>0</td>\n",
              "      <td>1</td>\n",
              "      <td>0</td>\n",
              "      <td>0</td>\n",
              "      <td>0</td>\n",
              "      <td>0</td>\n",
              "    </tr>\n",
              "    <tr>\n",
              "      <th>1</th>\n",
              "      <td>0</td>\n",
              "      <td>0</td>\n",
              "      <td>0</td>\n",
              "      <td>0</td>\n",
              "      <td>0</td>\n",
              "      <td>1</td>\n",
              "      <td>0</td>\n",
              "      <td>0</td>\n",
              "      <td>0</td>\n",
              "      <td>1</td>\n",
              "      <td>0</td>\n",
              "      <td>0</td>\n",
              "      <td>0</td>\n",
              "      <td>0</td>\n",
              "      <td>0</td>\n",
              "      <td>0</td>\n",
              "      <td>0</td>\n",
              "      <td>0</td>\n",
              "      <td>0</td>\n",
              "      <td>0</td>\n",
              "      <td>0</td>\n",
              "      <td>0</td>\n",
              "      <td>0</td>\n",
              "      <td>0</td>\n",
              "      <td>0</td>\n",
              "      <td>0</td>\n",
              "      <td>1</td>\n",
              "      <td>0</td>\n",
              "      <td>0</td>\n",
              "      <td>0</td>\n",
              "      <td>0</td>\n",
              "      <td>0</td>\n",
              "      <td>0</td>\n",
              "      <td>0</td>\n",
              "      <td>0</td>\n",
              "      <td>0</td>\n",
              "      <td>0</td>\n",
              "      <td>0</td>\n",
              "      <td>0</td>\n",
              "      <td>0</td>\n",
              "      <td>0</td>\n",
              "      <td>0</td>\n",
              "      <td>0</td>\n",
              "      <td>0</td>\n",
              "      <td>0</td>\n",
              "      <td>0</td>\n",
              "      <td>0</td>\n",
              "      <td>0</td>\n",
              "      <td>0</td>\n",
              "      <td>0</td>\n",
              "      <td>0</td>\n",
              "      <td>0</td>\n",
              "      <td>0</td>\n",
              "      <td>0</td>\n",
              "      <td>0</td>\n",
              "      <td>0</td>\n",
              "      <td>0</td>\n",
              "      <td>0</td>\n",
              "    </tr>\n",
              "    <tr>\n",
              "      <th>2</th>\n",
              "      <td>1</td>\n",
              "      <td>0</td>\n",
              "      <td>0</td>\n",
              "      <td>1</td>\n",
              "      <td>1</td>\n",
              "      <td>0</td>\n",
              "      <td>0</td>\n",
              "      <td>0</td>\n",
              "      <td>0</td>\n",
              "      <td>1</td>\n",
              "      <td>0</td>\n",
              "      <td>0</td>\n",
              "      <td>0</td>\n",
              "      <td>0</td>\n",
              "      <td>0</td>\n",
              "      <td>0</td>\n",
              "      <td>0</td>\n",
              "      <td>0</td>\n",
              "      <td>0</td>\n",
              "      <td>0</td>\n",
              "      <td>0</td>\n",
              "      <td>0</td>\n",
              "      <td>0</td>\n",
              "      <td>0</td>\n",
              "      <td>0</td>\n",
              "      <td>1</td>\n",
              "      <td>0</td>\n",
              "      <td>0</td>\n",
              "      <td>0</td>\n",
              "      <td>0</td>\n",
              "      <td>0</td>\n",
              "      <td>0</td>\n",
              "      <td>0</td>\n",
              "      <td>0</td>\n",
              "      <td>0</td>\n",
              "      <td>0</td>\n",
              "      <td>0</td>\n",
              "      <td>0</td>\n",
              "      <td>0</td>\n",
              "      <td>0</td>\n",
              "      <td>0</td>\n",
              "      <td>0</td>\n",
              "      <td>0</td>\n",
              "      <td>0</td>\n",
              "      <td>0</td>\n",
              "      <td>0</td>\n",
              "      <td>0</td>\n",
              "      <td>0</td>\n",
              "      <td>0</td>\n",
              "      <td>0</td>\n",
              "      <td>0</td>\n",
              "      <td>0</td>\n",
              "      <td>0</td>\n",
              "      <td>0</td>\n",
              "      <td>0</td>\n",
              "      <td>0</td>\n",
              "      <td>0</td>\n",
              "      <td>0</td>\n",
              "    </tr>\n",
              "    <tr>\n",
              "      <th>3</th>\n",
              "      <td>0</td>\n",
              "      <td>0</td>\n",
              "      <td>0</td>\n",
              "      <td>0</td>\n",
              "      <td>0</td>\n",
              "      <td>1</td>\n",
              "      <td>0</td>\n",
              "      <td>0</td>\n",
              "      <td>0</td>\n",
              "      <td>1</td>\n",
              "      <td>0</td>\n",
              "      <td>0</td>\n",
              "      <td>0</td>\n",
              "      <td>0</td>\n",
              "      <td>0</td>\n",
              "      <td>0</td>\n",
              "      <td>0</td>\n",
              "      <td>0</td>\n",
              "      <td>0</td>\n",
              "      <td>0</td>\n",
              "      <td>0</td>\n",
              "      <td>0</td>\n",
              "      <td>0</td>\n",
              "      <td>0</td>\n",
              "      <td>0</td>\n",
              "      <td>0</td>\n",
              "      <td>1</td>\n",
              "      <td>0</td>\n",
              "      <td>0</td>\n",
              "      <td>0</td>\n",
              "      <td>0</td>\n",
              "      <td>0</td>\n",
              "      <td>0</td>\n",
              "      <td>0</td>\n",
              "      <td>0</td>\n",
              "      <td>0</td>\n",
              "      <td>0</td>\n",
              "      <td>0</td>\n",
              "      <td>0</td>\n",
              "      <td>0</td>\n",
              "      <td>0</td>\n",
              "      <td>0</td>\n",
              "      <td>0</td>\n",
              "      <td>0</td>\n",
              "      <td>0</td>\n",
              "      <td>0</td>\n",
              "      <td>0</td>\n",
              "      <td>0</td>\n",
              "      <td>0</td>\n",
              "      <td>0</td>\n",
              "      <td>0</td>\n",
              "      <td>0</td>\n",
              "      <td>0</td>\n",
              "      <td>0</td>\n",
              "      <td>0</td>\n",
              "      <td>0</td>\n",
              "      <td>0</td>\n",
              "      <td>0</td>\n",
              "    </tr>\n",
              "    <tr>\n",
              "      <th>4</th>\n",
              "      <td>0</td>\n",
              "      <td>0</td>\n",
              "      <td>0</td>\n",
              "      <td>0</td>\n",
              "      <td>0</td>\n",
              "      <td>1</td>\n",
              "      <td>0</td>\n",
              "      <td>0</td>\n",
              "      <td>0</td>\n",
              "      <td>0</td>\n",
              "      <td>1</td>\n",
              "      <td>0</td>\n",
              "      <td>0</td>\n",
              "      <td>0</td>\n",
              "      <td>0</td>\n",
              "      <td>0</td>\n",
              "      <td>0</td>\n",
              "      <td>0</td>\n",
              "      <td>0</td>\n",
              "      <td>0</td>\n",
              "      <td>0</td>\n",
              "      <td>0</td>\n",
              "      <td>0</td>\n",
              "      <td>0</td>\n",
              "      <td>1</td>\n",
              "      <td>0</td>\n",
              "      <td>0</td>\n",
              "      <td>0</td>\n",
              "      <td>0</td>\n",
              "      <td>0</td>\n",
              "      <td>0</td>\n",
              "      <td>0</td>\n",
              "      <td>0</td>\n",
              "      <td>0</td>\n",
              "      <td>0</td>\n",
              "      <td>0</td>\n",
              "      <td>0</td>\n",
              "      <td>0</td>\n",
              "      <td>0</td>\n",
              "      <td>0</td>\n",
              "      <td>0</td>\n",
              "      <td>0</td>\n",
              "      <td>0</td>\n",
              "      <td>0</td>\n",
              "      <td>0</td>\n",
              "      <td>0</td>\n",
              "      <td>0</td>\n",
              "      <td>0</td>\n",
              "      <td>0</td>\n",
              "      <td>0</td>\n",
              "      <td>0</td>\n",
              "      <td>0</td>\n",
              "      <td>0</td>\n",
              "      <td>0</td>\n",
              "      <td>0</td>\n",
              "      <td>0</td>\n",
              "      <td>0</td>\n",
              "      <td>0</td>\n",
              "    </tr>\n",
              "  </tbody>\n",
              "</table>\n",
              "</div>"
            ],
            "text/plain": [
              "   urban_flag  credit_card_on_file  ...  customer_state_wa  customer_state_wi\n",
              "0           1                    0  ...                  0                  0\n",
              "1           0                    0  ...                  0                  0\n",
              "2           1                    0  ...                  0                  0\n",
              "3           0                    0  ...                  0                  0\n",
              "4           0                    0  ...                  0                  0\n",
              "\n",
              "[5 rows x 58 columns]"
            ]
          },
          "metadata": {
            "tags": []
          },
          "execution_count": 136
        }
      ]
    },
    {
      "cell_type": "markdown",
      "metadata": {
        "id": "cPj2ux-ITBCU"
      },
      "source": [
        "Dependent and Independent Variables"
      ]
    },
    {
      "cell_type": "code",
      "metadata": {
        "id": "IKx0N0q_rGyt"
      },
      "source": [
        "  x = df_final.loc[:, df_final.columns != 'subscriber'].values\n",
        "  y = df_final.loc[:, df_final.columns == 'subscriber'].values\n",
        "  y=y.astype('int')"
      ],
      "execution_count": 137,
      "outputs": []
    },
    {
      "cell_type": "code",
      "metadata": {
        "id": "nRMYtMnkJOxV",
        "colab": {
          "base_uri": "https://localhost:8080/"
        },
        "outputId": "2d66a678-d018-455e-c751-020f76e5c181"
      },
      "source": [
        "from imblearn.over_sampling import SMOTE\n",
        "\n",
        "os = SMOTE(random_state=0)\n",
        "x_train, x_test, y_train, y_test = train_test_split(x, y, test_size=0.3, random_state=0)\n",
        "columns = df_final.iloc[:, :-1].columns.values\n",
        "\n",
        "os_data_x,os_data_y=os.fit_sample(x_train, y_train)\n",
        "os_data_x = pd.DataFrame(data=os_data_x,columns=columns)\n",
        "os_data_y= pd.DataFrame(data=os_data_y,columns=['subscriber'])\n",
        "\n",
        "# Check the numbers of our data\n",
        "print(\"length of oversampled data is \",len(os_data_x))\n",
        "print(\"Number of no subscription in oversampled data\",len(os_data_y[os_data_y['subscriber']==0]))\n",
        "print(\"Number of subscription\",len(os_data_y[os_data_y['subscriber']==1]))\n",
        "print(\"Proportion of no subscription data in oversampled data is \",len(os_data_y[os_data_y['subscriber']==0])/len(os_data_x))\n",
        "print(\"Proportion of subscription data in oversampled data is \",len(os_data_y[os_data_y['subscriber']==1])/len(os_data_x))"
      ],
      "execution_count": 138,
      "outputs": [
        {
          "output_type": "stream",
          "text": [
            "/usr/local/lib/python3.7/dist-packages/sklearn/utils/validation.py:760: DataConversionWarning: A column-vector y was passed when a 1d array was expected. Please change the shape of y to (n_samples, ), for example using ravel().\n",
            "  y = column_or_1d(y, warn=True)\n",
            "/usr/local/lib/python3.7/dist-packages/sklearn/utils/deprecation.py:87: FutureWarning: Function safe_indexing is deprecated; safe_indexing is deprecated in version 0.22 and will be removed in version 0.24.\n",
            "  warnings.warn(msg, category=FutureWarning)\n"
          ],
          "name": "stderr"
        },
        {
          "output_type": "stream",
          "text": [
            "length of oversampled data is  122452\n",
            "Number of no subscription in oversampled data 61226\n",
            "Number of subscription 61226\n",
            "Proportion of no subscription data in oversampled data is  0.5\n",
            "Proportion of subscription data in oversampled data is  0.5\n"
          ],
          "name": "stdout"
        }
      ]
    },
    {
      "cell_type": "markdown",
      "metadata": {
        "id": "HzItlzQ2Xjuz"
      },
      "source": [
        "Balancing data by Over Sampling using SMOTE"
      ]
    },
    {
      "cell_type": "code",
      "metadata": {
        "colab": {
          "base_uri": "https://localhost:8080/"
        },
        "id": "11FyiCddeUBK",
        "outputId": "c4dd95fe-34fc-4eb4-ce3a-2e891fc607a1"
      },
      "source": [
        "columns = df_final.iloc[:, :-1].columns.values\n",
        "columns"
      ],
      "execution_count": 139,
      "outputs": [
        {
          "output_type": "execute_result",
          "data": {
            "text/plain": [
              "array(['urban_flag', 'credit_card_on_file', 'student', 'subscriber',\n",
              "       'platform_desktop web', 'platform_mobile web', 'fav_genre_General',\n",
              "       'fav_genre_classical', 'fav_genre_country', 'fav_genre_hip_hop',\n",
              "       'fav_genre_indie_rock', 'fav_genre_latin', 'fav_genre_punk_rock',\n",
              "       'fav_genre_r&b', 'fav_genre_techno', 'customer_state_ak',\n",
              "       'customer_state_al', 'customer_state_ar', 'customer_state_az',\n",
              "       'customer_state_ca', 'customer_state_co', 'customer_state_ct',\n",
              "       'customer_state_dc', 'customer_state_de', 'customer_state_fl',\n",
              "       'customer_state_ga', 'customer_state_hi', 'customer_state_ia',\n",
              "       'customer_state_id', 'customer_state_il', 'customer_state_in',\n",
              "       'customer_state_ks', 'customer_state_ky', 'customer_state_la',\n",
              "       'customer_state_ma', 'customer_state_md', 'customer_state_me',\n",
              "       'customer_state_mi', 'customer_state_mn', 'customer_state_mo',\n",
              "       'customer_state_ms', 'customer_state_mt', 'customer_state_nc',\n",
              "       'customer_state_ne', 'customer_state_nj', 'customer_state_nv',\n",
              "       'customer_state_oh', 'customer_state_ok', 'customer_state_or',\n",
              "       'customer_state_pa', 'customer_state_ri', 'customer_state_sc',\n",
              "       'customer_state_tn', 'customer_state_tx', 'customer_state_ut',\n",
              "       'customer_state_va', 'customer_state_wa'], dtype=object)"
            ]
          },
          "metadata": {
            "tags": []
          },
          "execution_count": 139
        }
      ]
    },
    {
      "cell_type": "markdown",
      "metadata": {
        "id": "savOb3Twe1Ed"
      },
      "source": [
        "#Recursive Feature Elimination"
      ]
    },
    {
      "cell_type": "code",
      "metadata": {
        "id": "4nMyXeauqvuI",
        "colab": {
          "base_uri": "https://localhost:8080/"
        },
        "outputId": "701fc8de-ddfa-4d43-f72c-39aecbe25e3f"
      },
      "source": [
        "df_final_vars=df_final.columns.values.tolist()\n",
        "df_final_vars\n",
        "Y = ['subscriber']\n",
        "X = [i for i in df_final_vars if i not in Y]\n",
        "\n",
        "from sklearn.feature_selection import RFE\n",
        "from sklearn.linear_model import LogisticRegression\n",
        "\n",
        "logreg = LogisticRegression()\n",
        "\n",
        "rfe = RFE(logreg, 60)\n",
        "rfe = rfe.fit(os_data_x, os_data_y.values.ravel())\n",
        "print(rfe.support_)\n",
        "print(rfe.ranking_)"
      ],
      "execution_count": 140,
      "outputs": [
        {
          "output_type": "stream",
          "text": [
            "[ True  True  True  True  True  True  True  True  True  True  True  True\n",
            "  True  True  True  True  True  True  True  True  True  True  True  True\n",
            "  True  True  True  True  True  True  True  True  True  True  True  True\n",
            "  True  True  True  True  True  True  True  True  True  True  True  True\n",
            "  True  True  True  True  True  True  True  True  True]\n",
            "[1 1 1 1 1 1 1 1 1 1 1 1 1 1 1 1 1 1 1 1 1 1 1 1 1 1 1 1 1 1 1 1 1 1 1 1 1\n",
            " 1 1 1 1 1 1 1 1 1 1 1 1 1 1 1 1 1 1 1 1]\n"
          ],
          "name": "stdout"
        },
        {
          "output_type": "stream",
          "text": [
            "/usr/local/lib/python3.7/dist-packages/sklearn/linear_model/_logistic.py:940: ConvergenceWarning: lbfgs failed to converge (status=1):\n",
            "STOP: TOTAL NO. of ITERATIONS REACHED LIMIT.\n",
            "\n",
            "Increase the number of iterations (max_iter) or scale the data as shown in:\n",
            "    https://scikit-learn.org/stable/modules/preprocessing.html\n",
            "Please also refer to the documentation for alternative solver options:\n",
            "    https://scikit-learn.org/stable/modules/linear_model.html#logistic-regression\n",
            "  extra_warning_msg=_LOGISTIC_SOLVER_CONVERGENCE_MSG)\n"
          ],
          "name": "stderr"
        }
      ]
    },
    {
      "cell_type": "markdown",
      "metadata": {
        "id": "mhXpaHYFYhE0"
      },
      "source": [
        "RFE shows all the features are relevant"
      ]
    },
    {
      "cell_type": "code",
      "metadata": {
        "colab": {
          "base_uri": "https://localhost:8080/"
        },
        "id": "7LwVFkHIfl6A",
        "outputId": "a4709f66-a1d0-41ee-a1d4-5f01166fcce0"
      },
      "source": [
        "df_final_vars"
      ],
      "execution_count": 141,
      "outputs": [
        {
          "output_type": "execute_result",
          "data": {
            "text/plain": [
              "['urban_flag',\n",
              " 'credit_card_on_file',\n",
              " 'student',\n",
              " 'subscriber',\n",
              " 'platform_desktop web',\n",
              " 'platform_mobile web',\n",
              " 'fav_genre_General',\n",
              " 'fav_genre_classical',\n",
              " 'fav_genre_country',\n",
              " 'fav_genre_hip_hop',\n",
              " 'fav_genre_indie_rock',\n",
              " 'fav_genre_latin',\n",
              " 'fav_genre_punk_rock',\n",
              " 'fav_genre_r&b',\n",
              " 'fav_genre_techno',\n",
              " 'customer_state_ak',\n",
              " 'customer_state_al',\n",
              " 'customer_state_ar',\n",
              " 'customer_state_az',\n",
              " 'customer_state_ca',\n",
              " 'customer_state_co',\n",
              " 'customer_state_ct',\n",
              " 'customer_state_dc',\n",
              " 'customer_state_de',\n",
              " 'customer_state_fl',\n",
              " 'customer_state_ga',\n",
              " 'customer_state_hi',\n",
              " 'customer_state_ia',\n",
              " 'customer_state_id',\n",
              " 'customer_state_il',\n",
              " 'customer_state_in',\n",
              " 'customer_state_ks',\n",
              " 'customer_state_ky',\n",
              " 'customer_state_la',\n",
              " 'customer_state_ma',\n",
              " 'customer_state_md',\n",
              " 'customer_state_me',\n",
              " 'customer_state_mi',\n",
              " 'customer_state_mn',\n",
              " 'customer_state_mo',\n",
              " 'customer_state_ms',\n",
              " 'customer_state_mt',\n",
              " 'customer_state_nc',\n",
              " 'customer_state_ne',\n",
              " 'customer_state_nj',\n",
              " 'customer_state_nv',\n",
              " 'customer_state_oh',\n",
              " 'customer_state_ok',\n",
              " 'customer_state_or',\n",
              " 'customer_state_pa',\n",
              " 'customer_state_ri',\n",
              " 'customer_state_sc',\n",
              " 'customer_state_tn',\n",
              " 'customer_state_tx',\n",
              " 'customer_state_ut',\n",
              " 'customer_state_va',\n",
              " 'customer_state_wa',\n",
              " 'customer_state_wi']"
            ]
          },
          "metadata": {
            "tags": []
          },
          "execution_count": 141
        }
      ]
    },
    {
      "cell_type": "markdown",
      "metadata": {
        "id": "EWzj6SIjfw5b"
      },
      "source": [
        "ANOVA and LASSO to find the feature importance wrt to the \"target variable\""
      ]
    },
    {
      "cell_type": "code",
      "metadata": {
        "colab": {
          "base_uri": "https://localhost:8080/",
          "height": 511
        },
        "id": "8FvnEE6h-uz8",
        "outputId": "b6a06f4c-4402-42f0-b864-8e16be82b5b5"
      },
      "source": [
        "X = os_data_x.drop(\"subscriber\", axis=1).values\n",
        "y = os_data_y['subscriber'].values\n",
        "feature_names = os_data_x.drop(\"subscriber\", axis=1).columns\n",
        "## Anova\n",
        "selector = feature_selection.SelectKBest(score_func=  \n",
        "               feature_selection.f_classif, k=10).fit(X,y)\n",
        "anova_selected_features = feature_names[selector.get_support()]\n",
        "\n",
        "## Lasso regularization\n",
        "selector = feature_selection.SelectFromModel(estimator= \n",
        "              linear_model.LogisticRegression(C=1, penalty=\"l1\", \n",
        "              solver='liblinear'), max_features=10).fit(X,y)\n",
        "lasso_selected_features = feature_names[selector.get_support()]\n",
        "\n",
        "\n",
        "## Plot\n",
        "dtf_features = pd.DataFrame({\"features\":feature_names})\n",
        "dtf_features[\"anova\"] = dtf_features[\"features\"].apply(lambda x: \"anova\" if x in anova_selected_features else \"\")\n",
        "dtf_features[\"num1\"] = dtf_features[\"features\"].apply(lambda x: 1 if x in anova_selected_features else 0)\n",
        "dtf_features[\"lasso\"] = dtf_features[\"features\"].apply(lambda x: \"lasso\" if x in lasso_selected_features else \"\")\n",
        "dtf_features[\"num2\"] = dtf_features[\"features\"].apply(lambda x: 1 if x in lasso_selected_features else 0)\n",
        "dtf_features[\"method\"] = dtf_features[[\"anova\",\"lasso\"]].apply(lambda x: (x[0]+\" \"+x[1]).strip(), axis=1)\n",
        "dtf_features[\"selection\"] = dtf_features[\"num1\"] + dtf_features[\"num2\"]\n",
        "sns.barplot(y=\"features\", x=\"selection\", hue=\"method\", data=dtf_features.sort_values(\"selection\", ascending=False), dodge=False)\n",
        "\n",
        "\n",
        "## list the fetaures selected by Anova and Lasso\n",
        "print(lasso_selected_features)\n",
        "print(anova_selected_features)"
      ],
      "execution_count": 142,
      "outputs": [
        {
          "output_type": "stream",
          "text": [
            "/usr/local/lib/python3.7/dist-packages/sklearn/svm/_base.py:947: ConvergenceWarning: Liblinear failed to converge, increase the number of iterations.\n",
            "  \"the number of iterations.\", ConvergenceWarning)\n"
          ],
          "name": "stderr"
        },
        {
          "output_type": "stream",
          "text": [
            "Index(['fav_genre_punk_rock', 'fav_genre_r&b', 'fav_genre_techno',\n",
            "       'customer_state_al', 'customer_state_co', 'customer_state_hi',\n",
            "       'customer_state_ia', 'customer_state_ks', 'customer_state_mo',\n",
            "       'customer_state_ms'],\n",
            "      dtype='object')\n",
            "Index(['credit_card_on_file', 'platform_mobile web', 'fav_genre_hip_hop',\n",
            "       'fav_genre_indie_rock', 'fav_genre_r&b', 'customer_state_de',\n",
            "       'customer_state_fl', 'customer_state_ga', 'customer_state_hi',\n",
            "       'customer_state_mn'],\n",
            "      dtype='object')\n"
          ],
          "name": "stdout"
        },
        {
          "output_type": "display_data",
          "data": {
            "image/png": "[encoded data removed]",
            "text/plain": [
              "<Figure size 432x288 with 1 Axes>"
            ]
          },
          "metadata": {
            "tags": []
          }
        }
      ]
    },
    {
      "cell_type": "markdown",
      "metadata": {
        "id": "OgSlTo9Pq_yO"
      },
      "source": [
        "#Train the Model"
      ]
    },
    {
      "cell_type": "code",
      "metadata": {
        "colab": {
          "base_uri": "https://localhost:8080/",
          "height": 241
        },
        "id": "GvRrtkVhAsPU",
        "outputId": "87bcab38-b341-4274-a569-346a7e2e22ac"
      },
      "source": [
        "os_data_x.head()"
      ],
      "execution_count": 143,
      "outputs": [
        {
          "output_type": "execute_result",
          "data": {
            "text/html": [
              "<div>\n",
              "<style scoped>\n",
              "    .dataframe tbody tr th:only-of-type {\n",
              "        vertical-align: middle;\n",
              "    }\n",
              "\n",
              "    .dataframe tbody tr th {\n",
              "        vertical-align: top;\n",
              "    }\n",
              "\n",
              "    .dataframe thead th {\n",
              "        text-align: right;\n",
              "    }\n",
              "</style>\n",
              "<table border=\"1\" class=\"dataframe\">\n",
              "  <thead>\n",
              "    <tr style=\"text-align: right;\">\n",
              "      <th></th>\n",
              "      <th>urban_flag</th>\n",
              "      <th>credit_card_on_file</th>\n",
              "      <th>student</th>\n",
              "      <th>subscriber</th>\n",
              "      <th>platform_desktop web</th>\n",
              "      <th>platform_mobile web</th>\n",
              "      <th>fav_genre_General</th>\n",
              "      <th>fav_genre_classical</th>\n",
              "      <th>fav_genre_country</th>\n",
              "      <th>fav_genre_hip_hop</th>\n",
              "      <th>fav_genre_indie_rock</th>\n",
              "      <th>fav_genre_latin</th>\n",
              "      <th>fav_genre_punk_rock</th>\n",
              "      <th>fav_genre_r&amp;b</th>\n",
              "      <th>fav_genre_techno</th>\n",
              "      <th>customer_state_ak</th>\n",
              "      <th>customer_state_al</th>\n",
              "      <th>customer_state_ar</th>\n",
              "      <th>customer_state_az</th>\n",
              "      <th>customer_state_ca</th>\n",
              "      <th>customer_state_co</th>\n",
              "      <th>customer_state_ct</th>\n",
              "      <th>customer_state_dc</th>\n",
              "      <th>customer_state_de</th>\n",
              "      <th>customer_state_fl</th>\n",
              "      <th>customer_state_ga</th>\n",
              "      <th>customer_state_hi</th>\n",
              "      <th>customer_state_ia</th>\n",
              "      <th>customer_state_id</th>\n",
              "      <th>customer_state_il</th>\n",
              "      <th>customer_state_in</th>\n",
              "      <th>customer_state_ks</th>\n",
              "      <th>customer_state_ky</th>\n",
              "      <th>customer_state_la</th>\n",
              "      <th>customer_state_ma</th>\n",
              "      <th>customer_state_md</th>\n",
              "      <th>customer_state_me</th>\n",
              "      <th>customer_state_mi</th>\n",
              "      <th>customer_state_mn</th>\n",
              "      <th>customer_state_mo</th>\n",
              "      <th>customer_state_ms</th>\n",
              "      <th>customer_state_mt</th>\n",
              "      <th>customer_state_nc</th>\n",
              "      <th>customer_state_ne</th>\n",
              "      <th>customer_state_nj</th>\n",
              "      <th>customer_state_nv</th>\n",
              "      <th>customer_state_oh</th>\n",
              "      <th>customer_state_ok</th>\n",
              "      <th>customer_state_or</th>\n",
              "      <th>customer_state_pa</th>\n",
              "      <th>customer_state_ri</th>\n",
              "      <th>customer_state_sc</th>\n",
              "      <th>customer_state_tn</th>\n",
              "      <th>customer_state_tx</th>\n",
              "      <th>customer_state_ut</th>\n",
              "      <th>customer_state_va</th>\n",
              "      <th>customer_state_wa</th>\n",
              "    </tr>\n",
              "  </thead>\n",
              "  <tbody>\n",
              "    <tr>\n",
              "      <th>0</th>\n",
              "      <td>0</td>\n",
              "      <td>0</td>\n",
              "      <td>0</td>\n",
              "      <td>0</td>\n",
              "      <td>1</td>\n",
              "      <td>0</td>\n",
              "      <td>0</td>\n",
              "      <td>0</td>\n",
              "      <td>1</td>\n",
              "      <td>0</td>\n",
              "      <td>0</td>\n",
              "      <td>0</td>\n",
              "      <td>0</td>\n",
              "      <td>0</td>\n",
              "      <td>0</td>\n",
              "      <td>0</td>\n",
              "      <td>0</td>\n",
              "      <td>0</td>\n",
              "      <td>0</td>\n",
              "      <td>1</td>\n",
              "      <td>0</td>\n",
              "      <td>0</td>\n",
              "      <td>0</td>\n",
              "      <td>0</td>\n",
              "      <td>0</td>\n",
              "      <td>0</td>\n",
              "      <td>0</td>\n",
              "      <td>0</td>\n",
              "      <td>0</td>\n",
              "      <td>0</td>\n",
              "      <td>0</td>\n",
              "      <td>0</td>\n",
              "      <td>0</td>\n",
              "      <td>0</td>\n",
              "      <td>0</td>\n",
              "      <td>0</td>\n",
              "      <td>0</td>\n",
              "      <td>0</td>\n",
              "      <td>0</td>\n",
              "      <td>0</td>\n",
              "      <td>0</td>\n",
              "      <td>0</td>\n",
              "      <td>0</td>\n",
              "      <td>0</td>\n",
              "      <td>0</td>\n",
              "      <td>0</td>\n",
              "      <td>0</td>\n",
              "      <td>0</td>\n",
              "      <td>0</td>\n",
              "      <td>0</td>\n",
              "      <td>0</td>\n",
              "      <td>0</td>\n",
              "      <td>0</td>\n",
              "      <td>0</td>\n",
              "      <td>0</td>\n",
              "      <td>0</td>\n",
              "      <td>0</td>\n",
              "    </tr>\n",
              "    <tr>\n",
              "      <th>1</th>\n",
              "      <td>0</td>\n",
              "      <td>0</td>\n",
              "      <td>0</td>\n",
              "      <td>1</td>\n",
              "      <td>0</td>\n",
              "      <td>0</td>\n",
              "      <td>0</td>\n",
              "      <td>0</td>\n",
              "      <td>1</td>\n",
              "      <td>0</td>\n",
              "      <td>0</td>\n",
              "      <td>0</td>\n",
              "      <td>0</td>\n",
              "      <td>0</td>\n",
              "      <td>0</td>\n",
              "      <td>0</td>\n",
              "      <td>0</td>\n",
              "      <td>0</td>\n",
              "      <td>0</td>\n",
              "      <td>0</td>\n",
              "      <td>0</td>\n",
              "      <td>0</td>\n",
              "      <td>0</td>\n",
              "      <td>0</td>\n",
              "      <td>0</td>\n",
              "      <td>1</td>\n",
              "      <td>0</td>\n",
              "      <td>0</td>\n",
              "      <td>0</td>\n",
              "      <td>0</td>\n",
              "      <td>0</td>\n",
              "      <td>0</td>\n",
              "      <td>0</td>\n",
              "      <td>0</td>\n",
              "      <td>0</td>\n",
              "      <td>0</td>\n",
              "      <td>0</td>\n",
              "      <td>0</td>\n",
              "      <td>0</td>\n",
              "      <td>0</td>\n",
              "      <td>0</td>\n",
              "      <td>0</td>\n",
              "      <td>0</td>\n",
              "      <td>0</td>\n",
              "      <td>0</td>\n",
              "      <td>0</td>\n",
              "      <td>0</td>\n",
              "      <td>0</td>\n",
              "      <td>0</td>\n",
              "      <td>0</td>\n",
              "      <td>0</td>\n",
              "      <td>0</td>\n",
              "      <td>0</td>\n",
              "      <td>0</td>\n",
              "      <td>0</td>\n",
              "      <td>0</td>\n",
              "      <td>0</td>\n",
              "    </tr>\n",
              "    <tr>\n",
              "      <th>2</th>\n",
              "      <td>0</td>\n",
              "      <td>0</td>\n",
              "      <td>0</td>\n",
              "      <td>0</td>\n",
              "      <td>1</td>\n",
              "      <td>0</td>\n",
              "      <td>0</td>\n",
              "      <td>0</td>\n",
              "      <td>1</td>\n",
              "      <td>0</td>\n",
              "      <td>0</td>\n",
              "      <td>0</td>\n",
              "      <td>0</td>\n",
              "      <td>0</td>\n",
              "      <td>0</td>\n",
              "      <td>0</td>\n",
              "      <td>0</td>\n",
              "      <td>0</td>\n",
              "      <td>1</td>\n",
              "      <td>0</td>\n",
              "      <td>0</td>\n",
              "      <td>0</td>\n",
              "      <td>0</td>\n",
              "      <td>0</td>\n",
              "      <td>0</td>\n",
              "      <td>0</td>\n",
              "      <td>0</td>\n",
              "      <td>0</td>\n",
              "      <td>0</td>\n",
              "      <td>0</td>\n",
              "      <td>0</td>\n",
              "      <td>0</td>\n",
              "      <td>0</td>\n",
              "      <td>0</td>\n",
              "      <td>0</td>\n",
              "      <td>0</td>\n",
              "      <td>0</td>\n",
              "      <td>0</td>\n",
              "      <td>0</td>\n",
              "      <td>0</td>\n",
              "      <td>0</td>\n",
              "      <td>0</td>\n",
              "      <td>0</td>\n",
              "      <td>0</td>\n",
              "      <td>0</td>\n",
              "      <td>0</td>\n",
              "      <td>0</td>\n",
              "      <td>0</td>\n",
              "      <td>0</td>\n",
              "      <td>0</td>\n",
              "      <td>0</td>\n",
              "      <td>0</td>\n",
              "      <td>0</td>\n",
              "      <td>0</td>\n",
              "      <td>0</td>\n",
              "      <td>0</td>\n",
              "      <td>0</td>\n",
              "    </tr>\n",
              "    <tr>\n",
              "      <th>3</th>\n",
              "      <td>1</td>\n",
              "      <td>0</td>\n",
              "      <td>0</td>\n",
              "      <td>0</td>\n",
              "      <td>1</td>\n",
              "      <td>0</td>\n",
              "      <td>0</td>\n",
              "      <td>0</td>\n",
              "      <td>0</td>\n",
              "      <td>1</td>\n",
              "      <td>0</td>\n",
              "      <td>0</td>\n",
              "      <td>0</td>\n",
              "      <td>0</td>\n",
              "      <td>0</td>\n",
              "      <td>0</td>\n",
              "      <td>0</td>\n",
              "      <td>0</td>\n",
              "      <td>0</td>\n",
              "      <td>1</td>\n",
              "      <td>0</td>\n",
              "      <td>0</td>\n",
              "      <td>0</td>\n",
              "      <td>0</td>\n",
              "      <td>0</td>\n",
              "      <td>0</td>\n",
              "      <td>0</td>\n",
              "      <td>0</td>\n",
              "      <td>0</td>\n",
              "      <td>0</td>\n",
              "      <td>0</td>\n",
              "      <td>0</td>\n",
              "      <td>0</td>\n",
              "      <td>0</td>\n",
              "      <td>0</td>\n",
              "      <td>0</td>\n",
              "      <td>0</td>\n",
              "      <td>0</td>\n",
              "      <td>0</td>\n",
              "      <td>0</td>\n",
              "      <td>0</td>\n",
              "      <td>0</td>\n",
              "      <td>0</td>\n",
              "      <td>0</td>\n",
              "      <td>0</td>\n",
              "      <td>0</td>\n",
              "      <td>0</td>\n",
              "      <td>0</td>\n",
              "      <td>0</td>\n",
              "      <td>0</td>\n",
              "      <td>0</td>\n",
              "      <td>0</td>\n",
              "      <td>0</td>\n",
              "      <td>0</td>\n",
              "      <td>0</td>\n",
              "      <td>0</td>\n",
              "      <td>0</td>\n",
              "    </tr>\n",
              "    <tr>\n",
              "      <th>4</th>\n",
              "      <td>1</td>\n",
              "      <td>0</td>\n",
              "      <td>1</td>\n",
              "      <td>0</td>\n",
              "      <td>1</td>\n",
              "      <td>0</td>\n",
              "      <td>0</td>\n",
              "      <td>0</td>\n",
              "      <td>1</td>\n",
              "      <td>0</td>\n",
              "      <td>0</td>\n",
              "      <td>0</td>\n",
              "      <td>0</td>\n",
              "      <td>0</td>\n",
              "      <td>0</td>\n",
              "      <td>0</td>\n",
              "      <td>0</td>\n",
              "      <td>0</td>\n",
              "      <td>0</td>\n",
              "      <td>0</td>\n",
              "      <td>0</td>\n",
              "      <td>0</td>\n",
              "      <td>0</td>\n",
              "      <td>1</td>\n",
              "      <td>0</td>\n",
              "      <td>0</td>\n",
              "      <td>0</td>\n",
              "      <td>0</td>\n",
              "      <td>0</td>\n",
              "      <td>0</td>\n",
              "      <td>0</td>\n",
              "      <td>0</td>\n",
              "      <td>0</td>\n",
              "      <td>0</td>\n",
              "      <td>0</td>\n",
              "      <td>0</td>\n",
              "      <td>0</td>\n",
              "      <td>0</td>\n",
              "      <td>0</td>\n",
              "      <td>0</td>\n",
              "      <td>0</td>\n",
              "      <td>0</td>\n",
              "      <td>0</td>\n",
              "      <td>0</td>\n",
              "      <td>0</td>\n",
              "      <td>0</td>\n",
              "      <td>0</td>\n",
              "      <td>0</td>\n",
              "      <td>0</td>\n",
              "      <td>0</td>\n",
              "      <td>0</td>\n",
              "      <td>0</td>\n",
              "      <td>0</td>\n",
              "      <td>0</td>\n",
              "      <td>0</td>\n",
              "      <td>0</td>\n",
              "      <td>0</td>\n",
              "    </tr>\n",
              "  </tbody>\n",
              "</table>\n",
              "</div>"
            ],
            "text/plain": [
              "   urban_flag  credit_card_on_file  ...  customer_state_va  customer_state_wa\n",
              "0           0                    0  ...                  0                  0\n",
              "1           0                    0  ...                  0                  0\n",
              "2           0                    0  ...                  0                  0\n",
              "3           1                    0  ...                  0                  0\n",
              "4           1                    0  ...                  0                  0\n",
              "\n",
              "[5 rows x 57 columns]"
            ]
          },
          "metadata": {
            "tags": []
          },
          "execution_count": 143
        }
      ]
    },
    {
      "cell_type": "code",
      "metadata": {
        "colab": {
          "base_uri": "https://localhost:8080/"
        },
        "id": "h_9gnNd8rCmd",
        "outputId": "1d34987b-4dbf-4216-9109-0edc4798fa5d"
      },
      "source": [
        "X_names = ['fav_genre_punk_rock', 'fav_genre_r&b', 'fav_genre_techno',\n",
        "       'customer_state_al', 'customer_state_co', 'customer_state_hi',\n",
        "       'customer_state_ia', 'customer_state_ks', 'customer_state_mo',\n",
        "       'customer_state_ms','credit_card_on_file', 'platform_mobile web', 'fav_genre_hip_hop',\n",
        "       'fav_genre_indie_rock', 'customer_state_de',\n",
        "       'customer_state_fl', 'customer_state_ga','customer_state_mn', 'student', 'urban_flag']\n",
        "X=os_data_x[X_names]\n",
        "Y=os_data_y['subscriber']\n",
        "import statsmodels.api as sm\n",
        "logit_model=sm.Logit(Y,X)\n",
        "result=logit_model.fit()\n",
        "print(result.summary2())"
      ],
      "execution_count": 155,
      "outputs": [
        {
          "output_type": "stream",
          "text": [
            "Warning: Maximum number of iterations has been exceeded.\n",
            "         Current function value: 0.675924\n",
            "         Iterations: 35\n"
          ],
          "name": "stdout"
        },
        {
          "output_type": "stream",
          "text": [
            "/usr/local/lib/python3.7/dist-packages/statsmodels/base/model.py:512: ConvergenceWarning: Maximum Likelihood optimization failed to converge. Check mle_retvals\n",
            "  \"Check mle_retvals\", ConvergenceWarning)\n"
          ],
          "name": "stderr"
        },
        {
          "output_type": "stream",
          "text": [
            "                                Results: Logit\n",
            "===============================================================================\n",
            "Model:                   Logit                Pseudo R-squared:     0.025      \n",
            "Dependent Variable:      subscriber           AIC:                  165576.5636\n",
            "Date:                    2021-04-05 19:01     BIC:                  165770.8731\n",
            "No. Observations:        122452               Log-Likelihood:       -82768.    \n",
            "Df Model:                19                   LL-Null:              -84877.    \n",
            "Df Residuals:            122432               LLR p-value:          0.0000     \n",
            "Converged:               0.0000               Scale:                1.0000     \n",
            "No. Iterations:          35.0000                                               \n",
            "-------------------------------------------------------------------------------\n",
            "                      Coef.    Std.Err.     z     P>|z|     [0.025     0.975]  \n",
            "-------------------------------------------------------------------------------\n",
            "fav_genre_punk_rock   -0.6319     0.0754  -8.3833 0.0000     -0.7796    -0.4842\n",
            "fav_genre_r&b         -2.1472     0.1929 -11.1328 0.0000     -2.5252    -1.7692\n",
            "fav_genre_techno      -2.8511     0.4636  -6.1504 0.0000     -3.7597    -1.9425\n",
            "customer_state_al     -2.0416     0.3818  -5.3475 0.0000     -2.7900    -1.2933\n",
            "customer_state_co     -4.3718     1.0094  -4.3312 0.0000     -6.3502    -2.3935\n",
            "customer_state_hi     -2.4945     0.2903  -8.5929 0.0000     -3.0635    -1.9255\n",
            "customer_state_ia     -1.9432     0.4124  -4.7117 0.0000     -2.7515    -1.1349\n",
            "customer_state_ks    -14.6460   217.7202  -0.0673 0.9464   -441.3697   412.0778\n",
            "customer_state_mo    -15.3042   611.6007  -0.0250 0.9800  -1214.0195  1183.4111\n",
            "customer_state_ms    -20.3041 10374.1265  -0.0020 0.9984 -20353.2184 20312.6102\n",
            "credit_card_on_file    0.6447     0.0403  16.0178 0.0000      0.5658     0.7236\n",
            "platform_mobile web    0.1625     0.0175   9.2914 0.0000      0.1282     0.1968\n",
            "fav_genre_hip_hop     -0.6620     0.0532 -12.4424 0.0000     -0.7663    -0.5577\n",
            "fav_genre_indie_rock  -0.4276     0.0501  -8.5290 0.0000     -0.5259    -0.3293\n",
            "customer_state_de     -0.5648     0.0156 -36.2688 0.0000     -0.5953    -0.5342\n",
            "customer_state_fl      0.2797     0.0320   8.7526 0.0000      0.2171     0.3423\n",
            "customer_state_ga      0.1515     0.0189   8.0386 0.0000      0.1146     0.1885\n",
            "customer_state_mn     -1.2800     0.0382 -33.5224 0.0000     -1.3548    -1.2051\n",
            "student                0.0475     0.0177   2.6801 0.0074      0.0128     0.0822\n",
            "urban_flag             0.1813     0.0139  13.0331 0.0000      0.1540     0.2085\n",
            "===============================================================================\n",
            "\n"
          ],
          "name": "stdout"
        }
      ]
    },
    {
      "cell_type": "markdown",
      "metadata": {
        "id": "kJlQTX3sbgzf"
      },
      "source": [
        "Removing the columns with high P-Values"
      ]
    },
    {
      "cell_type": "code",
      "metadata": {
        "colab": {
          "base_uri": "https://localhost:8080/"
        },
        "id": "NZjmIkivaZUJ",
        "outputId": "9d63c416-cc3a-4ff9-ad65-ebc9d559d9aa"
      },
      "source": [
        "X_names = ['fav_genre_punk_rock', 'fav_genre_r&b', 'fav_genre_techno',\n",
        "       'customer_state_al', 'customer_state_co', 'customer_state_hi',\n",
        "       'customer_state_ia','credit_card_on_file', 'platform_mobile web', 'fav_genre_hip_hop',\n",
        "       'fav_genre_indie_rock', 'customer_state_de',\n",
        "       'customer_state_fl', 'customer_state_ga','customer_state_mn', 'urban_flag']\n",
        "X=os_data_x[X_names]\n",
        "Y=os_data_y['subscriber']\n",
        "import statsmodels.api as sm\n",
        "logit_model=sm.Logit(Y,X)\n",
        "result=logit_model.fit()\n",
        "print(result.summary2())"
      ],
      "execution_count": 161,
      "outputs": [
        {
          "output_type": "stream",
          "text": [
            "Optimization terminated successfully.\n",
            "         Current function value: 0.676297\n",
            "         Iterations 8\n",
            "                           Results: Logit\n",
            "=====================================================================\n",
            "Model:               Logit             Pseudo R-squared:  0.024      \n",
            "Dependent Variable:  subscriber        AIC:               165659.8070\n",
            "Date:                2021-04-05 19:02  BIC:               165815.2545\n",
            "No. Observations:    122452            Log-Likelihood:    -82814.    \n",
            "Df Model:            15                LL-Null:           -84877.    \n",
            "Df Residuals:        122436            LLR p-value:       0.0000     \n",
            "Converged:           1.0000            Scale:             1.0000     \n",
            "No. Iterations:      8.0000                                          \n",
            "---------------------------------------------------------------------\n",
            "                      Coef.  Std.Err.    z     P>|z|   [0.025  0.975]\n",
            "---------------------------------------------------------------------\n",
            "fav_genre_punk_rock  -0.6427   0.0753  -8.5371 0.0000 -0.7903 -0.4952\n",
            "fav_genre_r&b        -2.1564   0.1928 -11.1821 0.0000 -2.5343 -1.7784\n",
            "fav_genre_techno     -2.8336   0.4635  -6.1131 0.0000 -3.7421 -1.9251\n",
            "customer_state_al    -2.0264   0.3818  -5.3082 0.0000 -2.7746 -1.2782\n",
            "customer_state_co    -4.3601   1.0094  -4.3196 0.0000 -6.3385 -2.3817\n",
            "customer_state_hi    -2.4867   0.2903  -8.5669 0.0000 -3.0556 -1.9178\n",
            "customer_state_ia    -1.9343   0.4124  -4.6903 0.0000 -2.7425 -1.1260\n",
            "credit_card_on_file   0.6109   0.0385  15.8504 0.0000  0.5353  0.6864\n",
            "platform_mobile web   0.1563   0.0173   9.0263 0.0000  0.1224  0.1902\n",
            "fav_genre_hip_hop    -0.6704   0.0531 -12.6196 0.0000 -0.7745 -0.5663\n",
            "fav_genre_indie_rock -0.4350   0.0501  -8.6869 0.0000 -0.5332 -0.3369\n",
            "customer_state_de    -0.5565   0.0154 -36.1986 0.0000 -0.5867 -0.5264\n",
            "customer_state_fl     0.2758   0.0319   8.6439 0.0000  0.2133  0.3384\n",
            "customer_state_ga     0.1462   0.0187   7.8065 0.0000  0.1095  0.1829\n",
            "customer_state_mn    -1.2648   0.0379 -33.3694 0.0000 -1.3391 -1.1905\n",
            "urban_flag            0.2060   0.0096  21.5385 0.0000  0.1873  0.2248\n",
            "=====================================================================\n",
            "\n"
          ],
          "name": "stdout"
        }
      ]
    },
    {
      "cell_type": "markdown",
      "metadata": {
        "id": "oXYTagUpkV-3"
      },
      "source": [
        "#XGBoost Classifier Model Fitting"
      ]
    },
    {
      "cell_type": "code",
      "metadata": {
        "colab": {
          "base_uri": "https://localhost:8080/"
        },
        "id": "FjAWcoRl6EMC",
        "outputId": "057f3529-be76-4e9c-cfde-36a25631ebad"
      },
      "source": [
        "from numpy import mean\n",
        "from sklearn.datasets import make_classification\n",
        "from sklearn.model_selection import cross_val_score\n",
        "from sklearn.model_selection import RepeatedStratifiedKFold\n",
        "from xgboost import XGBClassifier\n",
        "model = XGBClassifier()\n",
        "X_train, X_test, y_train, y_test = train_test_split(X, Y, test_size=0.3, random_state=0)\n",
        "cv = RepeatedStratifiedKFold(n_splits=10, n_repeats=3, random_state=1)\n",
        "scores = cross_val_score(model, X_train, y_train, scoring='roc_auc', cv=cv, n_jobs=-1)\n",
        "print('Mean ROC AUC: %.5f' % mean(scores))"
      ],
      "execution_count": 166,
      "outputs": [
        {
          "output_type": "stream",
          "text": [
            "Mean ROC AUC: 0.60014\n"
          ],
          "name": "stdout"
        }
      ]
    },
    {
      "cell_type": "markdown",
      "metadata": {
        "id": "dTWZwh5akiH0"
      },
      "source": [
        "Predict the Test Results"
      ]
    },
    {
      "cell_type": "code",
      "metadata": {
        "colab": {
          "base_uri": "https://localhost:8080/"
        },
        "id": "ZAVVICMH6drp",
        "outputId": "73e6a599-ce07-4ecd-abba-b4fe50939e75"
      },
      "source": [
        "model.fit(X_train, y_train)"
      ],
      "execution_count": 168,
      "outputs": [
        {
          "output_type": "execute_result",
          "data": {
            "text/plain": [
              "XGBClassifier(base_score=0.5, booster='gbtree', colsample_bylevel=1,\n",
              "              colsample_bynode=1, colsample_bytree=1, gamma=0,\n",
              "              learning_rate=0.1, max_delta_step=0, max_depth=3,\n",
              "              min_child_weight=1, missing=None, n_estimators=100, n_jobs=1,\n",
              "              nthread=None, objective='binary:logistic', random_state=0,\n",
              "              reg_alpha=0, reg_lambda=1, scale_pos_weight=1, seed=None,\n",
              "              silent=None, subsample=1, verbosity=1)"
            ]
          },
          "metadata": {
            "tags": []
          },
          "execution_count": 168
        }
      ]
    },
    {
      "cell_type": "markdown",
      "metadata": {
        "id": "_FL8eVqwcHOZ"
      },
      "source": [
        "#Model Testing"
      ]
    },
    {
      "cell_type": "markdown",
      "metadata": {
        "id": "uQE7kBxHcKc1"
      },
      "source": [
        "**Confusion Matrix**"
      ]
    },
    {
      "cell_type": "code",
      "metadata": {
        "colab": {
          "base_uri": "https://localhost:8080/"
        },
        "id": "vUFw9WS9kkH9",
        "outputId": "1804b317-da0c-4b43-83fc-e2099a4bd409"
      },
      "source": [
        "from sklearn.metrics import confusion_matrix, accuracy_score\n",
        "y_pred = model.predict(X_test)\n",
        "cm = confusion_matrix(y_test, y_pred)\n",
        "print(cm)\n",
        "accuracy_score(y_test, y_pred)"
      ],
      "execution_count": 169,
      "outputs": [
        {
          "output_type": "stream",
          "text": [
            "[[ 5602 12738]\n",
            " [ 3163 15233]]\n"
          ],
          "name": "stdout"
        },
        {
          "output_type": "execute_result",
          "data": {
            "text/plain": [
              "0.5671548344947736"
            ]
          },
          "metadata": {
            "tags": []
          },
          "execution_count": 169
        }
      ]
    },
    {
      "cell_type": "markdown",
      "metadata": {
        "id": "B1d036FDcOtV"
      },
      "source": [
        "Recall, Precision and f1-score"
      ]
    },
    {
      "cell_type": "code",
      "metadata": {
        "colab": {
          "base_uri": "https://localhost:8080/"
        },
        "id": "R1ntIaBU6qed",
        "outputId": "b7008082-2b1f-4926-c5a7-525e3fa4e235"
      },
      "source": [
        "from sklearn.metrics import classification_report\n",
        "print(classification_report(y_test, y_pred))"
      ],
      "execution_count": 170,
      "outputs": [
        {
          "output_type": "stream",
          "text": [
            "              precision    recall  f1-score   support\n",
            "\n",
            "           0       0.64      0.31      0.41     18340\n",
            "           1       0.54      0.83      0.66     18396\n",
            "\n",
            "    accuracy                           0.57     36736\n",
            "   macro avg       0.59      0.57      0.54     36736\n",
            "weighted avg       0.59      0.57      0.54     36736\n",
            "\n"
          ],
          "name": "stdout"
        }
      ]
    },
    {
      "cell_type": "markdown",
      "metadata": {
        "id": "f7FQpsQucYM8"
      },
      "source": [
        "**ROC**"
      ]
    },
    {
      "cell_type": "code",
      "metadata": {
        "colab": {
          "base_uri": "https://localhost:8080/",
          "height": 301
        },
        "id": "c8GpOeYel_Ov",
        "outputId": "617c3a83-0547-402f-8cac-54342f928d92"
      },
      "source": [
        "from sklearn.metrics import roc_auc_score\n",
        "from sklearn.metrics import roc_curve\n",
        "logit_roc_auc = roc_auc_score(y_test, logreg.predict(X_test))\n",
        "fpr, tpr, thresholds = roc_curve(y_test, logreg.predict_proba(X_test)[:,1])\n",
        "plt.figure()\n",
        "plt.plot(fpr, tpr, label='Logistic Regression (area = %0.2f)' % logit_roc_auc)\n",
        "plt.plot([0, 1], [0, 1],'r--')\n",
        "plt.xlim([0.0, 1.0])\n",
        "plt.ylim([0.0, 1.05])\n",
        "plt.xlabel('False Positive Rate')\n",
        "plt.ylabel('True Positive Rate')\n",
        "plt.title('Receiver operating characteristic')\n",
        "plt.legend(loc=\"lower right\")\n",
        "plt.savefig('Log_ROC')\n",
        "plt.show()"
      ],
      "execution_count": 171,
      "outputs": [
        {
          "output_type": "display_data",
          "data": {
            "image/png": "[encoded data removed]",
            "text/plain": [
              "<Figure size 432x288 with 1 Axes>"
            ]
          },
          "metadata": {
            "tags": []
          }
        }
      ]
    }
  ]
}